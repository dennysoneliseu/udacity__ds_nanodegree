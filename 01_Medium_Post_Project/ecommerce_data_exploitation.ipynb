{
 "cells": [
  {
   "cell_type": "markdown",
   "id": "cfcea1c6",
   "metadata": {},
   "source": [
    "# Exploiting brazilian e-commerce data\n",
    "\n",
    "This project aims to understand how did e-commerce behaviored in Brazil between 2016 and 2018, exploiting categories, top products and other insights.\n",
    "\n",
    "A few b-questions to answer looking at this data is:\n",
    "- What is top 5 categories? - OK\n",
    "- When did most of the purchases happen? - OK\n",
    "- What time of the day people used to buy more? - OK\n",
    "- What seems to be the customers profiles identifiable? (pop this one out of the list)\n",
    "- Average tickets;\n",
    "- What region has the highest average ticket?\n",
    "- What region shows a highest orders tred? This may be interesting for logistics considerations; \n",
    "- Create a heatmap with the average ticket information, by region.\n",
    "\n",
    "The data contained in this project was last retrieved from [Kaggle](https://www.kaggle.com/datasets/olistbr/brazilian-ecommerce) public repository, by January 14th, 2023."
   ]
  },
  {
   "cell_type": "code",
   "execution_count": 1,
   "id": "41f4ef8f",
   "metadata": {},
   "outputs": [],
   "source": [
    "# loading PEP8 codesytle to make sure code is more readable\n",
    "\n",
    "%load_ext pycodestyle_magic"
   ]
  },
  {
   "cell_type": "code",
   "execution_count": 2,
   "id": "9a8e4cbd",
   "metadata": {},
   "outputs": [],
   "source": [
    "%pycodestyle_on\n",
    "%pycodestyle_off"
   ]
  },
  {
   "cell_type": "code",
   "execution_count": 3,
   "id": "90abcfbd",
   "metadata": {},
   "outputs": [],
   "source": [
    "# importing needed libraries\n",
    "\n",
    "import pandas as pd\n",
    "import warnings\n",
    "#warnings.filterwarnings(\"ignore\")\n",
    "\n",
    "from datetime import datetime as dt\n",
    "import os\n",
    "import matplotlib.pyplot as plt\n",
    "from matplotlib import rcParams\n",
    "fontfamily = 'serif'\n",
    "rcParams['font.family'] = fontfamily\n",
    "rcParams['font.sans-serif'] = ['Tahoma']\n",
    "\n",
    "# Possible fonts = Tahoma, DejaVu Sans, Lucida Grande, Verdana"
   ]
  },
  {
   "cell_type": "code",
   "execution_count": 4,
   "id": "2467d2bf",
   "metadata": {},
   "outputs": [],
   "source": [
    "# setting the path to all data \n",
    "\n",
    "data_path = \"data/\""
   ]
  },
  {
   "cell_type": "code",
   "execution_count": 5,
   "id": "f8f346cc",
   "metadata": {},
   "outputs": [],
   "source": [
    "# reading all interesting data files\n",
    "orders_file = \"olist_orders_dataset.csv\"\n",
    "items_file = \"olist_order_items_dataset.csv\"\n",
    "products_file = \"olist_products_dataset.csv\"\n",
    "customers_file = \"olist_customers_dataset.csv\"\n",
    "translation_file = \"product_category_name_translation.csv\"\n",
    "geolocation_file = \"'olist_geolocation_dataset.csv'\"\n",
    "\n",
    "orders = pd.read_csv(os.path.join(data_path, orders_file))\n",
    "items = pd.read_csv(os.path.join(data_path, items_file))\n",
    "products = pd.read_csv(os.path.join(data_path, products_file))\n",
    "translation = pd.read_csv(os.path.join(data_path, translation_file))\n",
    "customers = pd.read_csv(os.path.join(data_path, customers_file))\n",
    "cat_trans = pd.read_csv(os.path.join(data_path, translation_file))\n",
    "geolocat = pd.read_csv(os.path.join(data_path, customers_file))"
   ]
  },
  {
   "cell_type": "markdown",
   "id": "a62e5b95",
   "metadata": {},
   "source": [
    "Lets explore the datasets we have"
   ]
  },
  {
   "cell_type": "markdown",
   "id": "8c630fc5",
   "metadata": {},
   "source": [
    "### Customers"
   ]
  },
  {
   "cell_type": "code",
   "execution_count": 6,
   "id": "cfd2afb1",
   "metadata": {},
   "outputs": [
    {
     "data": {
      "text/html": [
       "<div>\n",
       "<style scoped>\n",
       "    .dataframe tbody tr th:only-of-type {\n",
       "        vertical-align: middle;\n",
       "    }\n",
       "\n",
       "    .dataframe tbody tr th {\n",
       "        vertical-align: top;\n",
       "    }\n",
       "\n",
       "    .dataframe thead th {\n",
       "        text-align: right;\n",
       "    }\n",
       "</style>\n",
       "<table border=\"1\" class=\"dataframe\">\n",
       "  <thead>\n",
       "    <tr style=\"text-align: right;\">\n",
       "      <th></th>\n",
       "      <th>customer_id</th>\n",
       "      <th>customer_unique_id</th>\n",
       "      <th>customer_zip_code_prefix</th>\n",
       "      <th>customer_city</th>\n",
       "      <th>customer_state</th>\n",
       "    </tr>\n",
       "  </thead>\n",
       "  <tbody>\n",
       "    <tr>\n",
       "      <th>0</th>\n",
       "      <td>06b8999e2fba1a1fbc88172c00ba8bc7</td>\n",
       "      <td>861eff4711a542e4b93843c6dd7febb0</td>\n",
       "      <td>14409</td>\n",
       "      <td>franca</td>\n",
       "      <td>SP</td>\n",
       "    </tr>\n",
       "    <tr>\n",
       "      <th>1</th>\n",
       "      <td>18955e83d337fd6b2def6b18a428ac77</td>\n",
       "      <td>290c77bc529b7ac935b93aa66c333dc3</td>\n",
       "      <td>9790</td>\n",
       "      <td>sao bernardo do campo</td>\n",
       "      <td>SP</td>\n",
       "    </tr>\n",
       "    <tr>\n",
       "      <th>2</th>\n",
       "      <td>4e7b3e00288586ebd08712fdd0374a03</td>\n",
       "      <td>060e732b5b29e8181a18229c7b0b2b5e</td>\n",
       "      <td>1151</td>\n",
       "      <td>sao paulo</td>\n",
       "      <td>SP</td>\n",
       "    </tr>\n",
       "    <tr>\n",
       "      <th>3</th>\n",
       "      <td>b2b6027bc5c5109e529d4dc6358b12c3</td>\n",
       "      <td>259dac757896d24d7702b9acbbff3f3c</td>\n",
       "      <td>8775</td>\n",
       "      <td>mogi das cruzes</td>\n",
       "      <td>SP</td>\n",
       "    </tr>\n",
       "    <tr>\n",
       "      <th>4</th>\n",
       "      <td>4f2d8ab171c80ec8364f7c12e35b23ad</td>\n",
       "      <td>345ecd01c38d18a9036ed96c73b8d066</td>\n",
       "      <td>13056</td>\n",
       "      <td>campinas</td>\n",
       "      <td>SP</td>\n",
       "    </tr>\n",
       "  </tbody>\n",
       "</table>\n",
       "</div>"
      ],
      "text/plain": [
       "                        customer_id                customer_unique_id  \\\n",
       "0  06b8999e2fba1a1fbc88172c00ba8bc7  861eff4711a542e4b93843c6dd7febb0   \n",
       "1  18955e83d337fd6b2def6b18a428ac77  290c77bc529b7ac935b93aa66c333dc3   \n",
       "2  4e7b3e00288586ebd08712fdd0374a03  060e732b5b29e8181a18229c7b0b2b5e   \n",
       "3  b2b6027bc5c5109e529d4dc6358b12c3  259dac757896d24d7702b9acbbff3f3c   \n",
       "4  4f2d8ab171c80ec8364f7c12e35b23ad  345ecd01c38d18a9036ed96c73b8d066   \n",
       "\n",
       "   customer_zip_code_prefix          customer_city customer_state  \n",
       "0                     14409                 franca             SP  \n",
       "1                      9790  sao bernardo do campo             SP  \n",
       "2                      1151              sao paulo             SP  \n",
       "3                      8775        mogi das cruzes             SP  \n",
       "4                     13056               campinas             SP  "
      ]
     },
     "execution_count": 6,
     "metadata": {},
     "output_type": "execute_result"
    }
   ],
   "source": [
    "customers.head()"
   ]
  },
  {
   "cell_type": "markdown",
   "id": "9ec87e41",
   "metadata": {},
   "source": [
    "### Orders"
   ]
  },
  {
   "cell_type": "code",
   "execution_count": 7,
   "id": "256d75e1",
   "metadata": {},
   "outputs": [
    {
     "data": {
      "text/html": [
       "<div>\n",
       "<style scoped>\n",
       "    .dataframe tbody tr th:only-of-type {\n",
       "        vertical-align: middle;\n",
       "    }\n",
       "\n",
       "    .dataframe tbody tr th {\n",
       "        vertical-align: top;\n",
       "    }\n",
       "\n",
       "    .dataframe thead th {\n",
       "        text-align: right;\n",
       "    }\n",
       "</style>\n",
       "<table border=\"1\" class=\"dataframe\">\n",
       "  <thead>\n",
       "    <tr style=\"text-align: right;\">\n",
       "      <th></th>\n",
       "      <th>order_id</th>\n",
       "      <th>customer_id</th>\n",
       "      <th>order_status</th>\n",
       "      <th>order_purchase_timestamp</th>\n",
       "      <th>order_approved_at</th>\n",
       "      <th>order_delivered_carrier_date</th>\n",
       "      <th>order_delivered_customer_date</th>\n",
       "      <th>order_estimated_delivery_date</th>\n",
       "    </tr>\n",
       "  </thead>\n",
       "  <tbody>\n",
       "    <tr>\n",
       "      <th>0</th>\n",
       "      <td>e481f51cbdc54678b7cc49136f2d6af7</td>\n",
       "      <td>9ef432eb6251297304e76186b10a928d</td>\n",
       "      <td>delivered</td>\n",
       "      <td>2017-10-02 10:56:33</td>\n",
       "      <td>2017-10-02 11:07:15</td>\n",
       "      <td>2017-10-04 19:55:00</td>\n",
       "      <td>2017-10-10 21:25:13</td>\n",
       "      <td>2017-10-18 00:00:00</td>\n",
       "    </tr>\n",
       "    <tr>\n",
       "      <th>1</th>\n",
       "      <td>53cdb2fc8bc7dce0b6741e2150273451</td>\n",
       "      <td>b0830fb4747a6c6d20dea0b8c802d7ef</td>\n",
       "      <td>delivered</td>\n",
       "      <td>2018-07-24 20:41:37</td>\n",
       "      <td>2018-07-26 03:24:27</td>\n",
       "      <td>2018-07-26 14:31:00</td>\n",
       "      <td>2018-08-07 15:27:45</td>\n",
       "      <td>2018-08-13 00:00:00</td>\n",
       "    </tr>\n",
       "    <tr>\n",
       "      <th>2</th>\n",
       "      <td>47770eb9100c2d0c44946d9cf07ec65d</td>\n",
       "      <td>41ce2a54c0b03bf3443c3d931a367089</td>\n",
       "      <td>delivered</td>\n",
       "      <td>2018-08-08 08:38:49</td>\n",
       "      <td>2018-08-08 08:55:23</td>\n",
       "      <td>2018-08-08 13:50:00</td>\n",
       "      <td>2018-08-17 18:06:29</td>\n",
       "      <td>2018-09-04 00:00:00</td>\n",
       "    </tr>\n",
       "    <tr>\n",
       "      <th>3</th>\n",
       "      <td>949d5b44dbf5de918fe9c16f97b45f8a</td>\n",
       "      <td>f88197465ea7920adcdbec7375364d82</td>\n",
       "      <td>delivered</td>\n",
       "      <td>2017-11-18 19:28:06</td>\n",
       "      <td>2017-11-18 19:45:59</td>\n",
       "      <td>2017-11-22 13:39:59</td>\n",
       "      <td>2017-12-02 00:28:42</td>\n",
       "      <td>2017-12-15 00:00:00</td>\n",
       "    </tr>\n",
       "    <tr>\n",
       "      <th>4</th>\n",
       "      <td>ad21c59c0840e6cb83a9ceb5573f8159</td>\n",
       "      <td>8ab97904e6daea8866dbdbc4fb7aad2c</td>\n",
       "      <td>delivered</td>\n",
       "      <td>2018-02-13 21:18:39</td>\n",
       "      <td>2018-02-13 22:20:29</td>\n",
       "      <td>2018-02-14 19:46:34</td>\n",
       "      <td>2018-02-16 18:17:02</td>\n",
       "      <td>2018-02-26 00:00:00</td>\n",
       "    </tr>\n",
       "  </tbody>\n",
       "</table>\n",
       "</div>"
      ],
      "text/plain": [
       "                           order_id                       customer_id  \\\n",
       "0  e481f51cbdc54678b7cc49136f2d6af7  9ef432eb6251297304e76186b10a928d   \n",
       "1  53cdb2fc8bc7dce0b6741e2150273451  b0830fb4747a6c6d20dea0b8c802d7ef   \n",
       "2  47770eb9100c2d0c44946d9cf07ec65d  41ce2a54c0b03bf3443c3d931a367089   \n",
       "3  949d5b44dbf5de918fe9c16f97b45f8a  f88197465ea7920adcdbec7375364d82   \n",
       "4  ad21c59c0840e6cb83a9ceb5573f8159  8ab97904e6daea8866dbdbc4fb7aad2c   \n",
       "\n",
       "  order_status order_purchase_timestamp    order_approved_at  \\\n",
       "0    delivered      2017-10-02 10:56:33  2017-10-02 11:07:15   \n",
       "1    delivered      2018-07-24 20:41:37  2018-07-26 03:24:27   \n",
       "2    delivered      2018-08-08 08:38:49  2018-08-08 08:55:23   \n",
       "3    delivered      2017-11-18 19:28:06  2017-11-18 19:45:59   \n",
       "4    delivered      2018-02-13 21:18:39  2018-02-13 22:20:29   \n",
       "\n",
       "  order_delivered_carrier_date order_delivered_customer_date  \\\n",
       "0          2017-10-04 19:55:00           2017-10-10 21:25:13   \n",
       "1          2018-07-26 14:31:00           2018-08-07 15:27:45   \n",
       "2          2018-08-08 13:50:00           2018-08-17 18:06:29   \n",
       "3          2017-11-22 13:39:59           2017-12-02 00:28:42   \n",
       "4          2018-02-14 19:46:34           2018-02-16 18:17:02   \n",
       "\n",
       "  order_estimated_delivery_date  \n",
       "0           2017-10-18 00:00:00  \n",
       "1           2018-08-13 00:00:00  \n",
       "2           2018-09-04 00:00:00  \n",
       "3           2017-12-15 00:00:00  \n",
       "4           2018-02-26 00:00:00  "
      ]
     },
     "execution_count": 7,
     "metadata": {},
     "output_type": "execute_result"
    }
   ],
   "source": [
    "orders.head()"
   ]
  },
  {
   "cell_type": "markdown",
   "id": "3c025145",
   "metadata": {},
   "source": [
    "So what do we have? A 8 columns data set with only orders' data such as:\n",
    "- a unique ID;\n",
    "- a unique ID for the one who purchased;\n",
    "- status of the order\n",
    "- the moment it was purchased;\n",
    "- the moment the purchase was approved;\n",
    "- the moment it was delivered to the carrier;\n",
    "- the exact moment the customer received it's purchase;\n",
    "- the expected delivery moment.\n",
    "\n",
    "Nice. That will give us already a lot to exploit.\n",
    "\n",
    "Doing some feature engineering we can further see other information that are only subliminar so far, such as the weekday the purchase was made and difference between expected delivery time and real delivery time. Let's get this!\n",
    "\n",
    "First, let's make sure every column that suggets a timestamp data type is ok"
   ]
  },
  {
   "cell_type": "code",
   "execution_count": 8,
   "id": "f61faa72",
   "metadata": {},
   "outputs": [],
   "source": [
    "timestamp_like_columns = ['order_purchase_timestamp', 'order_approved_at',\n",
    "                          'order_delivered_carrier_date',\n",
    "                          'order_delivered_customer_date',\n",
    "                          'order_estimated_delivery_date']\n",
    "for c in timestamp_like_columns:\n",
    "    orders[c] = pd.to_datetime(orders[c])"
   ]
  },
  {
   "cell_type": "markdown",
   "id": "1d49a22c",
   "metadata": {},
   "source": [
    "Now lets finally get our new data"
   ]
  },
  {
   "cell_type": "code",
   "execution_count": 9,
   "id": "15d8e85d",
   "metadata": {},
   "outputs": [],
   "source": [
    "orders['purchase_weekday'] = orders['order_purchase_timestamp'].dt.day_name()\n",
    "orders['purchase_date'] = orders['order_purchase_timestamp'].dt.date\n",
    "orders['purchase_month'] = orders['order_purchase_timestamp'].dt.month\n",
    "orders['purchase_year'] = orders['order_purchase_timestamp'].dt.year\n",
    "orders['days_diff'] = pd.Series(orders['order_delivered_customer_date'] -\n",
    "                                orders['order_estimated_delivery_date']).dt.days  # nopep8 E501"
   ]
  },
  {
   "cell_type": "code",
   "execution_count": 10,
   "id": "7872cd73",
   "metadata": {},
   "outputs": [],
   "source": [
    "black_fridays = [dt.strptime(d, \"%d/%m/%Y\") for d in ('24/11/2017', '23/11/2018')]  # nopep8"
   ]
  },
  {
   "cell_type": "code",
   "execution_count": 11,
   "id": "bb2e0a70",
   "metadata": {},
   "outputs": [
    {
     "data": {
      "image/png": "[encoded data removed]",
      "text/plain": [
       "<Figure size 432x288 with 1 Axes>"
      ]
     },
     "metadata": {
      "needs_background": "light"
     },
     "output_type": "display_data"
    }
   ],
   "source": [
    "title = \"Distribution of orders' status\"\n",
    "plot = orders.order_status\\\n",
    "            .value_counts()\\\n",
    "            .plot(kind=\"bar\",\n",
    "                  title=title)"
   ]
  },
  {
   "cell_type": "code",
   "execution_count": 12,
   "id": "23413edd",
   "metadata": {},
   "outputs": [
    {
     "data": {
      "image/png": "[encoded data removed]",
      "text/plain": [
       "<Figure size 432x288 with 1 Axes>"
      ]
     },
     "metadata": {
      "needs_background": "light"
     },
     "output_type": "display_data"
    }
   ],
   "source": [
    "# selecting the column to analyse and then\n",
    "# creating a value counts to check the frequency\n",
    "\n",
    "title = \"Orders through the weekdays\"\n",
    "plot = orders.purchase_weekday\\\n",
    "                .value_counts()\\\n",
    "                .plot(kind=\"bar\",\n",
    "                      title=title,\n",
    "                      colormap=\"Paired\")  # displaying a bar plot"
   ]
  },
  {
   "cell_type": "markdown",
   "id": "4c7b1572",
   "metadata": {},
   "source": [
    "Some notes to take here: \n",
    "- These customers are more likely to buy on weekday than on the weekend;\n",
    "- There is not a lot of data about non-delivered orders."
   ]
  },
  {
   "cell_type": "code",
   "execution_count": 13,
   "id": "b44b2168",
   "metadata": {},
   "outputs": [
    {
     "data": {
      "image/png": "[encoded data removed]",
      "text/plain": [
       "<Figure size 864x432 with 1 Axes>"
      ]
     },
     "metadata": {
      "needs_background": "light"
     },
     "output_type": "display_data"
    }
   ],
   "source": [
    "# setting the plot\n",
    "\n",
    "fig, ax = plt.subplots(1, 1, figsize=(12, 6))\n",
    "\n",
    "# setting different colors for each year with\n",
    "# the grey to red palette\n",
    "colors = ['#580F41', '#DDA0DD', '#9A0EEA'] #purple\n",
    "\n",
    "colors = [\"#d7e1ee\", \"#cbd6e4\", \"#bfcbdb\", \"#b3bfd1\",\n",
    "          \"#a4a2a8\", \"#df8879\", \"#c86558\", \"#b04238\", \"#991f17\"]\n",
    "\n",
    "# identifying the number of orders by day per year\n",
    "\n",
    "average_orders = {}\n",
    "years = orders.purchase_year.unique()\n",
    "\n",
    "for i, year in enumerate(years):\n",
    "    df = orders[orders.purchase_year == year]\\\n",
    "            .groupby(['purchase_date'])['order_id']\\\n",
    "            .count()\n",
    "    average_orders[year] = int(df.mean())\n",
    "    ax.plot(df.index, df, color=colors[i+4])\n",
    "\n",
    "big_text = '''Although the data shows some undesirable\n",
    "behaviors, such as the \"trash\" data from 2016 \n",
    "and the rapid decrease in 2018, this plot still\n",
    "shows us an interesting event:\n",
    "\n",
    "That peak in 2017 seems to be really close to\n",
    "the end of the year. What about that, hum? \n",
    "Smells like Black Friday to me\n",
    "'''\n",
    "title_text = 'Orders over time'\n",
    " \n",
    "fig.text(0.17, 0.85, title_text, fontsize=15,\n",
    "         fontweight='bold', fontfamily=fontfamily)\n",
    "fig.text(0.17, 0.50, big_text, fontsize=12,\n",
    "         fontweight='light', fontfamily=fontfamily)\n",
    "\n",
    "bf_text = f'''\n",
    "The peak of course brings the\n",
    "mean to a higher value. Yet, the \n",
    "2017 order's mean is {average_orders[2017]} and for\n",
    "2018 is {average_orders[2018]}.\n",
    "'''\n",
    "fig.text(0.60, 0.65, bf_text, fontweight=\"light\",\n",
    "         fontfamily=fontfamily, fontsize=12)\n",
    "\n",
    "for s in ['top', 'right','bottom','left']:\n",
    "     ax.spines[s].set_visible(False)\n",
    "ax.yaxis.tick_right()\n",
    "plt.show()"
   ]
  },
  {
   "cell_type": "markdown",
   "id": "098c6094",
   "metadata": {},
   "source": [
    "Looking at this information may be pointless, so let's explore other features of these datasets"
   ]
  },
  {
   "cell_type": "markdown",
   "id": "6a184e09",
   "metadata": {},
   "source": [
    "### Items"
   ]
  },
  {
   "cell_type": "code",
   "execution_count": 14,
   "id": "80fe6edd",
   "metadata": {},
   "outputs": [
    {
     "data": {
      "text/html": [
       "<div>\n",
       "<style scoped>\n",
       "    .dataframe tbody tr th:only-of-type {\n",
       "        vertical-align: middle;\n",
       "    }\n",
       "\n",
       "    .dataframe tbody tr th {\n",
       "        vertical-align: top;\n",
       "    }\n",
       "\n",
       "    .dataframe thead th {\n",
       "        text-align: right;\n",
       "    }\n",
       "</style>\n",
       "<table border=\"1\" class=\"dataframe\">\n",
       "  <thead>\n",
       "    <tr style=\"text-align: right;\">\n",
       "      <th></th>\n",
       "      <th>order_id</th>\n",
       "      <th>order_item_id</th>\n",
       "      <th>product_id</th>\n",
       "      <th>seller_id</th>\n",
       "      <th>shipping_limit_date</th>\n",
       "      <th>price</th>\n",
       "      <th>freight_value</th>\n",
       "    </tr>\n",
       "  </thead>\n",
       "  <tbody>\n",
       "    <tr>\n",
       "      <th>0</th>\n",
       "      <td>00010242fe8c5a6d1ba2dd792cb16214</td>\n",
       "      <td>1</td>\n",
       "      <td>4244733e06e7ecb4970a6e2683c13e61</td>\n",
       "      <td>48436dade18ac8b2bce089ec2a041202</td>\n",
       "      <td>2017-09-19 09:45:35</td>\n",
       "      <td>58.90</td>\n",
       "      <td>13.29</td>\n",
       "    </tr>\n",
       "    <tr>\n",
       "      <th>1</th>\n",
       "      <td>00018f77f2f0320c557190d7a144bdd3</td>\n",
       "      <td>1</td>\n",
       "      <td>e5f2d52b802189ee658865ca93d83a8f</td>\n",
       "      <td>dd7ddc04e1b6c2c614352b383efe2d36</td>\n",
       "      <td>2017-05-03 11:05:13</td>\n",
       "      <td>239.90</td>\n",
       "      <td>19.93</td>\n",
       "    </tr>\n",
       "    <tr>\n",
       "      <th>2</th>\n",
       "      <td>000229ec398224ef6ca0657da4fc703e</td>\n",
       "      <td>1</td>\n",
       "      <td>c777355d18b72b67abbeef9df44fd0fd</td>\n",
       "      <td>5b51032eddd242adc84c38acab88f23d</td>\n",
       "      <td>2018-01-18 14:48:30</td>\n",
       "      <td>199.00</td>\n",
       "      <td>17.87</td>\n",
       "    </tr>\n",
       "    <tr>\n",
       "      <th>3</th>\n",
       "      <td>00024acbcdf0a6daa1e931b038114c75</td>\n",
       "      <td>1</td>\n",
       "      <td>7634da152a4610f1595efa32f14722fc</td>\n",
       "      <td>9d7a1d34a5052409006425275ba1c2b4</td>\n",
       "      <td>2018-08-15 10:10:18</td>\n",
       "      <td>12.99</td>\n",
       "      <td>12.79</td>\n",
       "    </tr>\n",
       "    <tr>\n",
       "      <th>4</th>\n",
       "      <td>00042b26cf59d7ce69dfabb4e55b4fd9</td>\n",
       "      <td>1</td>\n",
       "      <td>ac6c3623068f30de03045865e4e10089</td>\n",
       "      <td>df560393f3a51e74553ab94004ba5c87</td>\n",
       "      <td>2017-02-13 13:57:51</td>\n",
       "      <td>199.90</td>\n",
       "      <td>18.14</td>\n",
       "    </tr>\n",
       "  </tbody>\n",
       "</table>\n",
       "</div>"
      ],
      "text/plain": [
       "                           order_id  order_item_id  \\\n",
       "0  00010242fe8c5a6d1ba2dd792cb16214              1   \n",
       "1  00018f77f2f0320c557190d7a144bdd3              1   \n",
       "2  000229ec398224ef6ca0657da4fc703e              1   \n",
       "3  00024acbcdf0a6daa1e931b038114c75              1   \n",
       "4  00042b26cf59d7ce69dfabb4e55b4fd9              1   \n",
       "\n",
       "                         product_id                         seller_id  \\\n",
       "0  4244733e06e7ecb4970a6e2683c13e61  48436dade18ac8b2bce089ec2a041202   \n",
       "1  e5f2d52b802189ee658865ca93d83a8f  dd7ddc04e1b6c2c614352b383efe2d36   \n",
       "2  c777355d18b72b67abbeef9df44fd0fd  5b51032eddd242adc84c38acab88f23d   \n",
       "3  7634da152a4610f1595efa32f14722fc  9d7a1d34a5052409006425275ba1c2b4   \n",
       "4  ac6c3623068f30de03045865e4e10089  df560393f3a51e74553ab94004ba5c87   \n",
       "\n",
       "   shipping_limit_date   price  freight_value  \n",
       "0  2017-09-19 09:45:35   58.90          13.29  \n",
       "1  2017-05-03 11:05:13  239.90          19.93  \n",
       "2  2018-01-18 14:48:30  199.00          17.87  \n",
       "3  2018-08-15 10:10:18   12.99          12.79  \n",
       "4  2017-02-13 13:57:51  199.90          18.14  "
      ]
     },
     "execution_count": 14,
     "metadata": {},
     "output_type": "execute_result"
    }
   ],
   "source": [
    "items.head()"
   ]
  },
  {
   "cell_type": "code",
   "execution_count": 15,
   "id": "b42b0b13",
   "metadata": {},
   "outputs": [
    {
     "name": "stdout",
     "output_type": "stream",
     "text": [
      "The amount of order is 98666\n",
      "The amount of order is 32951\n"
     ]
    }
   ],
   "source": [
    "print(F\"The amount of order is {items.order_id.nunique()}\")\n",
    "print(F\"The amount of order is {items.product_id.nunique()}\")"
   ]
  },
  {
   "cell_type": "markdown",
   "id": "48848b38",
   "metadata": {},
   "source": [
    "So obviously there are repeated products ordered. Let's take a look on that behaviour"
   ]
  },
  {
   "cell_type": "code",
   "execution_count": 16,
   "id": "da2f54b7",
   "metadata": {},
   "outputs": [
    {
     "name": "stdout",
     "output_type": "stream",
     "text": [
      "aca2eb7d00ea1a7b8ebd4e68314663af    527\n",
      "99a4788cb24856965c36a24e339b6058    488\n",
      "422879e10f46682990de24d770e7f83d    484\n",
      "389d119b48cf3043d311335e499d9c6b    392\n",
      "368c6c730842d78016ad823897a372db    388\n",
      "53759a2ecddad2bb87a079a1f1519f73    373\n",
      "d1c427060a0f73f6b889a5c7c61f2ac4    343\n",
      "53b36df67ebb7c41585e8d54d6772e08    323\n",
      "154e7e31ebfa092203795c972e5804a6    281\n",
      "3dd2a17168ec895c781a9191c1e95ad7    274\n",
      "Name: product_id, dtype: int64\n"
     ]
    }
   ],
   "source": [
    "# these are top 10 orderes producs\n",
    "\n",
    "top_10_items = items.product_id.value_counts()[:10]\n",
    "print(top_10_items)\n",
    "top_10_items = top_10_items.to_dict()"
   ]
  },
  {
   "cell_type": "code",
   "execution_count": 17,
   "id": "8a562737",
   "metadata": {},
   "outputs": [
    {
     "data": {
      "text/plain": [
       "0.11753816272647265"
      ]
     },
     "execution_count": 17,
     "metadata": {},
     "output_type": "execute_result"
    }
   ],
   "source": [
    "# lets check the representativity of these guys\n",
    "\n",
    "perc_orders = sum(top_10_items.values())/items.product_id.nunique()\n",
    "perc_orders"
   ]
  },
  {
   "cell_type": "markdown",
   "id": "5ed3d0f9",
   "metadata": {},
   "source": [
    "Well, out of 30k+ ordered produtcs in almost 100k registers, top 10 represent something close to 12% of the total requests. That's cool but let's say nothing more. For now.\n",
    "\n",
    "And how long are the orders?"
   ]
  },
  {
   "cell_type": "code",
   "execution_count": 18,
   "id": "f70a70a9",
   "metadata": {},
   "outputs": [
    {
     "data": {
      "text/plain": [
       "1     0.875863\n",
       "2     0.087022\n",
       "3     0.020302\n",
       "4     0.008566\n",
       "5     0.004083\n",
       "6     0.002273\n",
       "7     0.000515\n",
       "8     0.000320\n",
       "9     0.000249\n",
       "10    0.000222\n",
       "11    0.000151\n",
       "12    0.000115\n",
       "13    0.000071\n",
       "14    0.000062\n",
       "15    0.000044\n",
       "16    0.000027\n",
       "17    0.000027\n",
       "18    0.000027\n",
       "19    0.000027\n",
       "20    0.000027\n",
       "21    0.000009\n",
       "Name: order_item_id, dtype: float64"
      ]
     },
     "execution_count": 18,
     "metadata": {},
     "output_type": "execute_result"
    }
   ],
   "source": [
    "items.order_item_id.value_counts(normalize=True)"
   ]
  },
  {
   "cell_type": "markdown",
   "id": "0e2dcdb0",
   "metadata": {},
   "source": [
    "We can see the orders oftenly (up to 96%) had the maximum of 2 items. And the one with the highest number of itens, had 21 of them! \n",
    "\n",
    "Let's see some other general stats about the items' prices, the orders's prices and their freights."
   ]
  },
  {
   "cell_type": "code",
   "execution_count": 19,
   "id": "b91362c6",
   "metadata": {},
   "outputs": [
    {
     "data": {
      "text/html": [
       "<div>\n",
       "<style scoped>\n",
       "    .dataframe tbody tr th:only-of-type {\n",
       "        vertical-align: middle;\n",
       "    }\n",
       "\n",
       "    .dataframe tbody tr th {\n",
       "        vertical-align: top;\n",
       "    }\n",
       "\n",
       "    .dataframe thead th {\n",
       "        text-align: right;\n",
       "    }\n",
       "</style>\n",
       "<table border=\"1\" class=\"dataframe\">\n",
       "  <thead>\n",
       "    <tr style=\"text-align: right;\">\n",
       "      <th></th>\n",
       "      <th>order_item_id</th>\n",
       "      <th>price</th>\n",
       "      <th>freight_value</th>\n",
       "    </tr>\n",
       "  </thead>\n",
       "  <tbody>\n",
       "    <tr>\n",
       "      <th>count</th>\n",
       "      <td>112650.000000</td>\n",
       "      <td>112650.000000</td>\n",
       "      <td>112650.000000</td>\n",
       "    </tr>\n",
       "    <tr>\n",
       "      <th>mean</th>\n",
       "      <td>1.197834</td>\n",
       "      <td>120.653739</td>\n",
       "      <td>19.990320</td>\n",
       "    </tr>\n",
       "    <tr>\n",
       "      <th>std</th>\n",
       "      <td>0.705124</td>\n",
       "      <td>183.633928</td>\n",
       "      <td>15.806405</td>\n",
       "    </tr>\n",
       "    <tr>\n",
       "      <th>min</th>\n",
       "      <td>1.000000</td>\n",
       "      <td>0.850000</td>\n",
       "      <td>0.000000</td>\n",
       "    </tr>\n",
       "    <tr>\n",
       "      <th>25%</th>\n",
       "      <td>1.000000</td>\n",
       "      <td>39.900000</td>\n",
       "      <td>13.080000</td>\n",
       "    </tr>\n",
       "    <tr>\n",
       "      <th>50%</th>\n",
       "      <td>1.000000</td>\n",
       "      <td>74.990000</td>\n",
       "      <td>16.260000</td>\n",
       "    </tr>\n",
       "    <tr>\n",
       "      <th>75%</th>\n",
       "      <td>1.000000</td>\n",
       "      <td>134.900000</td>\n",
       "      <td>21.150000</td>\n",
       "    </tr>\n",
       "    <tr>\n",
       "      <th>max</th>\n",
       "      <td>21.000000</td>\n",
       "      <td>6735.000000</td>\n",
       "      <td>409.680000</td>\n",
       "    </tr>\n",
       "  </tbody>\n",
       "</table>\n",
       "</div>"
      ],
      "text/plain": [
       "       order_item_id          price  freight_value\n",
       "count  112650.000000  112650.000000  112650.000000\n",
       "mean        1.197834     120.653739      19.990320\n",
       "std         0.705124     183.633928      15.806405\n",
       "min         1.000000       0.850000       0.000000\n",
       "25%         1.000000      39.900000      13.080000\n",
       "50%         1.000000      74.990000      16.260000\n",
       "75%         1.000000     134.900000      21.150000\n",
       "max        21.000000    6735.000000     409.680000"
      ]
     },
     "execution_count": 19,
     "metadata": {},
     "output_type": "execute_result"
    }
   ],
   "source": [
    "items.describe()"
   ]
  },
  {
   "cell_type": "markdown",
   "id": "3eb317ff",
   "metadata": {},
   "source": [
    "By the descriptive statistics of price and freight value, we can se the average order's price is about 120 reais with a high standard deviation and a real high max value (about 60 times). About the freight, it is 19 reais, with a not-that-high standard deviation and maximum value that is 20 times higher than the mean. Cool! What if we try to investigate these features in a closer look.\n",
    "\n",
    "Looking at the summary provided by the .describe() method, we'll see that about 75% of the order's prices are below 134.9 reais and for the freight value, the number we are observing is 21.15. Considering these data, with a widespread distribution, it may be a good value to cut our data and analise the lower cut for a histogram look. Let's see how this goes."
   ]
  },
  {
   "cell_type": "code",
   "execution_count": 20,
   "id": "7d7ccbc8",
   "metadata": {},
   "outputs": [
    {
     "data": {
      "image/png": "[encoded data removed]",
      "text/plain": [
       "<Figure size 864x432 with 3 Axes>"
      ]
     },
     "metadata": {
      "needs_background": "light"
     },
     "output_type": "display_data"
    }
   ],
   "source": [
    "# creating our matpplotlib figure \n",
    "\n",
    "fig, (ax1, ax2, ax3) = plt.subplots(3, 1, figsize=(12, 6))\n",
    "\n",
    "# plotting the histograms of each column\n",
    "items[items['price'] <= 135]\\\n",
    "     .price.hist(bins=30, ax = ax1)\n",
    "items[items['price'] <= 135]\\\n",
    "     .price.hist(bins=15, ax = ax2)\n",
    "items[items['freight_value'] <= 22]\\\n",
    "     .freight_value.hist(bins=22, ax = ax3)\n",
    "\n",
    "plt.show();"
   ]
  },
  {
   "cell_type": "markdown",
   "id": "9e9f47ce",
   "metadata": {},
   "source": [
    "It is interesting how the 15 and 30 bins are so different. When we look at the 30 bins histogram we can see that there is a trend for the prices value to group around \"round values\" such as the 10 multiples. We couldn't see this just with the 15 bins histogram. Nice! Still, is there any value in this information? Not until now. Let's keep on going!"
   ]
  },
  {
   "cell_type": "code",
   "execution_count": 21,
   "id": "19ce8599",
   "metadata": {},
   "outputs": [
    {
     "data": {
      "image/png": "[encoded data removed]",
      "text/plain": [
       "<Figure size 864x432 with 2 Axes>"
      ]
     },
     "metadata": {
      "needs_background": "light"
     },
     "output_type": "display_data"
    }
   ],
   "source": [
    "fig, (ax1, ax2) = plt.subplots(2, 1, figsize=(12, 6))\n",
    "\n",
    "# plotting the histograms of each column\n",
    "items[items['price'] <= 200]\\\n",
    "     .price.hist(bins=40, ax = ax1)\n",
    "items[items['freight_value'] <= 40]\\\n",
    "     .freight_value.hist(bins=20, ax = ax2)\n",
    "\n",
    "plt.show();"
   ]
  },
  {
   "cell_type": "code",
   "execution_count": 22,
   "id": "274fc522",
   "metadata": {},
   "outputs": [
    {
     "data": {
      "text/html": [
       "<div>\n",
       "<style scoped>\n",
       "    .dataframe tbody tr th:only-of-type {\n",
       "        vertical-align: middle;\n",
       "    }\n",
       "\n",
       "    .dataframe tbody tr th {\n",
       "        vertical-align: top;\n",
       "    }\n",
       "\n",
       "    .dataframe thead th {\n",
       "        text-align: right;\n",
       "    }\n",
       "</style>\n",
       "<table border=\"1\" class=\"dataframe\">\n",
       "  <thead>\n",
       "    <tr style=\"text-align: right;\">\n",
       "      <th></th>\n",
       "      <th>product_id</th>\n",
       "      <th>product_category_name</th>\n",
       "      <th>product_name_lenght</th>\n",
       "      <th>product_description_lenght</th>\n",
       "      <th>product_photos_qty</th>\n",
       "      <th>product_weight_g</th>\n",
       "      <th>product_length_cm</th>\n",
       "      <th>product_height_cm</th>\n",
       "      <th>product_width_cm</th>\n",
       "    </tr>\n",
       "  </thead>\n",
       "  <tbody>\n",
       "    <tr>\n",
       "      <th>0</th>\n",
       "      <td>1e9e8ef04dbcff4541ed26657ea517e5</td>\n",
       "      <td>perfumaria</td>\n",
       "      <td>40.0</td>\n",
       "      <td>287.0</td>\n",
       "      <td>1.0</td>\n",
       "      <td>225.0</td>\n",
       "      <td>16.0</td>\n",
       "      <td>10.0</td>\n",
       "      <td>14.0</td>\n",
       "    </tr>\n",
       "    <tr>\n",
       "      <th>1</th>\n",
       "      <td>3aa071139cb16b67ca9e5dea641aaa2f</td>\n",
       "      <td>artes</td>\n",
       "      <td>44.0</td>\n",
       "      <td>276.0</td>\n",
       "      <td>1.0</td>\n",
       "      <td>1000.0</td>\n",
       "      <td>30.0</td>\n",
       "      <td>18.0</td>\n",
       "      <td>20.0</td>\n",
       "    </tr>\n",
       "    <tr>\n",
       "      <th>2</th>\n",
       "      <td>96bd76ec8810374ed1b65e291975717f</td>\n",
       "      <td>esporte_lazer</td>\n",
       "      <td>46.0</td>\n",
       "      <td>250.0</td>\n",
       "      <td>1.0</td>\n",
       "      <td>154.0</td>\n",
       "      <td>18.0</td>\n",
       "      <td>9.0</td>\n",
       "      <td>15.0</td>\n",
       "    </tr>\n",
       "    <tr>\n",
       "      <th>3</th>\n",
       "      <td>cef67bcfe19066a932b7673e239eb23d</td>\n",
       "      <td>bebes</td>\n",
       "      <td>27.0</td>\n",
       "      <td>261.0</td>\n",
       "      <td>1.0</td>\n",
       "      <td>371.0</td>\n",
       "      <td>26.0</td>\n",
       "      <td>4.0</td>\n",
       "      <td>26.0</td>\n",
       "    </tr>\n",
       "    <tr>\n",
       "      <th>4</th>\n",
       "      <td>9dc1a7de274444849c219cff195d0b71</td>\n",
       "      <td>utilidades_domesticas</td>\n",
       "      <td>37.0</td>\n",
       "      <td>402.0</td>\n",
       "      <td>4.0</td>\n",
       "      <td>625.0</td>\n",
       "      <td>20.0</td>\n",
       "      <td>17.0</td>\n",
       "      <td>13.0</td>\n",
       "    </tr>\n",
       "  </tbody>\n",
       "</table>\n",
       "</div>"
      ],
      "text/plain": [
       "                         product_id  product_category_name  \\\n",
       "0  1e9e8ef04dbcff4541ed26657ea517e5             perfumaria   \n",
       "1  3aa071139cb16b67ca9e5dea641aaa2f                  artes   \n",
       "2  96bd76ec8810374ed1b65e291975717f          esporte_lazer   \n",
       "3  cef67bcfe19066a932b7673e239eb23d                  bebes   \n",
       "4  9dc1a7de274444849c219cff195d0b71  utilidades_domesticas   \n",
       "\n",
       "   product_name_lenght  product_description_lenght  product_photos_qty  \\\n",
       "0                 40.0                       287.0                 1.0   \n",
       "1                 44.0                       276.0                 1.0   \n",
       "2                 46.0                       250.0                 1.0   \n",
       "3                 27.0                       261.0                 1.0   \n",
       "4                 37.0                       402.0                 4.0   \n",
       "\n",
       "   product_weight_g  product_length_cm  product_height_cm  product_width_cm  \n",
       "0             225.0               16.0               10.0              14.0  \n",
       "1            1000.0               30.0               18.0              20.0  \n",
       "2             154.0               18.0                9.0              15.0  \n",
       "3             371.0               26.0                4.0              26.0  \n",
       "4             625.0               20.0               17.0              13.0  "
      ]
     },
     "execution_count": 22,
     "metadata": {},
     "output_type": "execute_result"
    }
   ],
   "source": [
    "products.head()"
   ]
  },
  {
   "cell_type": "markdown",
   "id": "36924e46",
   "metadata": {},
   "source": [
    "Ok, so now we can see at least 3 columns that may be interesting for us. They are \"product_id\", \"product_category_name\" and \"product_photos_qty\". And why is the last one in the list? I have a feeling that the higher the number of photos, the easier it is to sell the product. We can check this a bit later.\n",
    "\n",
    "With all the datasets we have, we can create a new one with all the information we now consider to be important. Le's try this out."
   ]
  },
  {
   "cell_type": "code",
   "execution_count": 23,
   "id": "272a865b",
   "metadata": {},
   "outputs": [],
   "source": [
    "# columns to filter out of the products dataset\n",
    "list_of_columns_prod = ['product_id', 'product_category_name', 'product_photos_qty']"
   ]
  },
  {
   "cell_type": "code",
   "execution_count": 24,
   "id": "9c9574ae",
   "metadata": {},
   "outputs": [],
   "source": [
    "full_orders = orders.merge(items,\n",
    "                           how='inner',\n",
    "                           on='order_id')\\\n",
    "                    .merge(products[list_of_columns_prod],\n",
    "                           how='inner',\n",
    "                           on='product_id')\\\n",
    "                    .merge(cat_trans,\n",
    "                           how='inner',\n",
    "                           on=\"product_category_name\")\n",
    "\n",
    "# cleaning up some columns that are no needed\n",
    "\n",
    "unecessary_columns = ['order_status', 'seller_id']\n",
    "full_orders.drop(columns=unecessary_columns,\n",
    "                 inplace=True)\n"
   ]
  },
  {
   "cell_type": "code",
   "execution_count": 25,
   "id": "066248c9",
   "metadata": {},
   "outputs": [
    {
     "data": {
      "text/html": [
       "<div>\n",
       "<style scoped>\n",
       "    .dataframe tbody tr th:only-of-type {\n",
       "        vertical-align: middle;\n",
       "    }\n",
       "\n",
       "    .dataframe tbody tr th {\n",
       "        vertical-align: top;\n",
       "    }\n",
       "\n",
       "    .dataframe thead th {\n",
       "        text-align: right;\n",
       "    }\n",
       "</style>\n",
       "<table border=\"1\" class=\"dataframe\">\n",
       "  <thead>\n",
       "    <tr style=\"text-align: right;\">\n",
       "      <th></th>\n",
       "      <th>order_id</th>\n",
       "      <th>customer_id</th>\n",
       "      <th>order_purchase_timestamp</th>\n",
       "      <th>order_approved_at</th>\n",
       "      <th>order_delivered_carrier_date</th>\n",
       "      <th>order_delivered_customer_date</th>\n",
       "      <th>order_estimated_delivery_date</th>\n",
       "      <th>purchase_weekday</th>\n",
       "      <th>purchase_date</th>\n",
       "      <th>purchase_month</th>\n",
       "      <th>purchase_year</th>\n",
       "      <th>days_diff</th>\n",
       "      <th>order_item_id</th>\n",
       "      <th>product_id</th>\n",
       "      <th>shipping_limit_date</th>\n",
       "      <th>price</th>\n",
       "      <th>freight_value</th>\n",
       "      <th>product_category_name</th>\n",
       "      <th>product_photos_qty</th>\n",
       "      <th>product_category_name_english</th>\n",
       "    </tr>\n",
       "  </thead>\n",
       "  <tbody>\n",
       "    <tr>\n",
       "      <th>0</th>\n",
       "      <td>e481f51cbdc54678b7cc49136f2d6af7</td>\n",
       "      <td>9ef432eb6251297304e76186b10a928d</td>\n",
       "      <td>2017-10-02 10:56:33</td>\n",
       "      <td>2017-10-02 11:07:15</td>\n",
       "      <td>2017-10-04 19:55:00</td>\n",
       "      <td>2017-10-10 21:25:13</td>\n",
       "      <td>2017-10-18</td>\n",
       "      <td>Monday</td>\n",
       "      <td>2017-10-02</td>\n",
       "      <td>10</td>\n",
       "      <td>2017</td>\n",
       "      <td>-8.0</td>\n",
       "      <td>1</td>\n",
       "      <td>87285b34884572647811a353c7ac498a</td>\n",
       "      <td>2017-10-06 11:07:15</td>\n",
       "      <td>29.99</td>\n",
       "      <td>8.72</td>\n",
       "      <td>utilidades_domesticas</td>\n",
       "      <td>4.0</td>\n",
       "      <td>housewares</td>\n",
       "    </tr>\n",
       "    <tr>\n",
       "      <th>1</th>\n",
       "      <td>128e10d95713541c87cd1a2e48201934</td>\n",
       "      <td>a20e8105f23924cd00833fd87daa0831</td>\n",
       "      <td>2017-08-15 18:29:31</td>\n",
       "      <td>2017-08-15 20:05:16</td>\n",
       "      <td>2017-08-17 15:28:33</td>\n",
       "      <td>2017-08-18 14:44:43</td>\n",
       "      <td>2017-08-28</td>\n",
       "      <td>Tuesday</td>\n",
       "      <td>2017-08-15</td>\n",
       "      <td>8</td>\n",
       "      <td>2017</td>\n",
       "      <td>-10.0</td>\n",
       "      <td>1</td>\n",
       "      <td>87285b34884572647811a353c7ac498a</td>\n",
       "      <td>2017-08-21 20:05:16</td>\n",
       "      <td>29.99</td>\n",
       "      <td>7.78</td>\n",
       "      <td>utilidades_domesticas</td>\n",
       "      <td>4.0</td>\n",
       "      <td>housewares</td>\n",
       "    </tr>\n",
       "  </tbody>\n",
       "</table>\n",
       "</div>"
      ],
      "text/plain": [
       "                           order_id                       customer_id  \\\n",
       "0  e481f51cbdc54678b7cc49136f2d6af7  9ef432eb6251297304e76186b10a928d   \n",
       "1  128e10d95713541c87cd1a2e48201934  a20e8105f23924cd00833fd87daa0831   \n",
       "\n",
       "  order_purchase_timestamp   order_approved_at order_delivered_carrier_date  \\\n",
       "0      2017-10-02 10:56:33 2017-10-02 11:07:15          2017-10-04 19:55:00   \n",
       "1      2017-08-15 18:29:31 2017-08-15 20:05:16          2017-08-17 15:28:33   \n",
       "\n",
       "  order_delivered_customer_date order_estimated_delivery_date  \\\n",
       "0           2017-10-10 21:25:13                    2017-10-18   \n",
       "1           2017-08-18 14:44:43                    2017-08-28   \n",
       "\n",
       "  purchase_weekday purchase_date  purchase_month  purchase_year  days_diff  \\\n",
       "0           Monday    2017-10-02              10           2017       -8.0   \n",
       "1          Tuesday    2017-08-15               8           2017      -10.0   \n",
       "\n",
       "   order_item_id                        product_id  shipping_limit_date  \\\n",
       "0              1  87285b34884572647811a353c7ac498a  2017-10-06 11:07:15   \n",
       "1              1  87285b34884572647811a353c7ac498a  2017-08-21 20:05:16   \n",
       "\n",
       "   price  freight_value  product_category_name  product_photos_qty  \\\n",
       "0  29.99           8.72  utilidades_domesticas                 4.0   \n",
       "1  29.99           7.78  utilidades_domesticas                 4.0   \n",
       "\n",
       "  product_category_name_english  \n",
       "0                    housewares  \n",
       "1                    housewares  "
      ]
     },
     "execution_count": 25,
     "metadata": {},
     "output_type": "execute_result"
    }
   ],
   "source": [
    "full_orders.head(2)"
   ]
  },
  {
   "cell_type": "code",
   "execution_count": 26,
   "id": "87eeaab3",
   "metadata": {},
   "outputs": [
    {
     "data": {
      "image/png": "[encoded data removed]",
      "text/plain": [
       "<Figure size 864x432 with 1 Axes>"
      ]
     },
     "metadata": {
      "needs_background": "light"
     },
     "output_type": "display_data"
    }
   ],
   "source": [
    "# plot top 10 ordered categories\n",
    "\n",
    "# setting the plot\n",
    "\n",
    "fig, ax = plt.subplots(1, 1, figsize=(12, 6))\n",
    "\n",
    "# setting different colors for each category\n",
    "# the grey to grey blue palette\n",
    "colors = [\"#d7e1ee\", \"#cbd6e4\", \"#bfcbdb\", \"#b3bfd1\", \"#b3cfd1\",\n",
    "          \"#6e7f80\", \"#536872\", \"#708090\", \"#536878\", \"#36454f\"]\n",
    "colors = colors[::-1]\n",
    "\n",
    "top_10_categories = full_orders.product_category_name_english.value_counts().head(10)\n",
    "\n",
    "\n",
    "ax = top_10_categories.plot(kind='barh', color=colors)\n",
    "ax.invert_yaxis()\n",
    "ax.yaxis.set_tick_params(labelsize=14)\n",
    "\n",
    "for i, v in enumerate(top_10_categories):\n",
    "    plt.text(v, i, str(v), fontsize=10)\n",
    "\n",
    "for s in ['top', 'right','bottom','left']:\n",
    "     ax.spines[s].set_visible(False)\n",
    "\n",
    "plt.show()"
   ]
  },
  {
   "cell_type": "code",
   "execution_count": 27,
   "id": "d4f46c43",
   "metadata": {},
   "outputs": [
    {
     "data": {
      "text/plain": [
       "cama_mesa_banho                  11115\n",
       "beleza_saude                      9670\n",
       "esporte_lazer                     8641\n",
       "moveis_decoracao                  8334\n",
       "informatica_acessorios            7827\n",
       "                                 ...  \n",
       "artes_e_artesanato                  24\n",
       "la_cuisine                          14\n",
       "cds_dvds_musicais                   14\n",
       "fashion_roupa_infanto_juvenil        8\n",
       "seguros_e_servicos                   2\n",
       "Name: product_category_name, Length: 71, dtype: int64"
      ]
     },
     "execution_count": 27,
     "metadata": {},
     "output_type": "execute_result"
    }
   ],
   "source": [
    "full_orders.product_category_name.value_counts()"
   ]
  },
  {
   "cell_type": "code",
   "execution_count": 28,
   "id": "7584bd6f",
   "metadata": {},
   "outputs": [
    {
     "data": {
      "text/html": [
       "<div>\n",
       "<style scoped>\n",
       "    .dataframe tbody tr th:only-of-type {\n",
       "        vertical-align: middle;\n",
       "    }\n",
       "\n",
       "    .dataframe tbody tr th {\n",
       "        vertical-align: top;\n",
       "    }\n",
       "\n",
       "    .dataframe thead th {\n",
       "        text-align: right;\n",
       "    }\n",
       "</style>\n",
       "<table border=\"1\" class=\"dataframe\">\n",
       "  <thead>\n",
       "    <tr style=\"text-align: right;\">\n",
       "      <th></th>\n",
       "      <th>order_id</th>\n",
       "      <th>customer_id</th>\n",
       "      <th>order_purchase_timestamp</th>\n",
       "      <th>order_approved_at</th>\n",
       "      <th>order_delivered_carrier_date</th>\n",
       "      <th>order_delivered_customer_date</th>\n",
       "      <th>order_estimated_delivery_date</th>\n",
       "      <th>purchase_weekday</th>\n",
       "      <th>purchase_date</th>\n",
       "      <th>purchase_month</th>\n",
       "      <th>purchase_year</th>\n",
       "      <th>days_diff</th>\n",
       "      <th>order_item_id</th>\n",
       "      <th>product_id</th>\n",
       "      <th>shipping_limit_date</th>\n",
       "      <th>price</th>\n",
       "      <th>freight_value</th>\n",
       "      <th>product_category_name</th>\n",
       "      <th>product_photos_qty</th>\n",
       "      <th>product_category_name_english</th>\n",
       "    </tr>\n",
       "  </thead>\n",
       "  <tbody>\n",
       "    <tr>\n",
       "      <th>0</th>\n",
       "      <td>e481f51cbdc54678b7cc49136f2d6af7</td>\n",
       "      <td>9ef432eb6251297304e76186b10a928d</td>\n",
       "      <td>2017-10-02 10:56:33</td>\n",
       "      <td>2017-10-02 11:07:15</td>\n",
       "      <td>2017-10-04 19:55:00</td>\n",
       "      <td>2017-10-10 21:25:13</td>\n",
       "      <td>2017-10-18</td>\n",
       "      <td>Monday</td>\n",
       "      <td>2017-10-02</td>\n",
       "      <td>10</td>\n",
       "      <td>2017</td>\n",
       "      <td>-8.0</td>\n",
       "      <td>1</td>\n",
       "      <td>87285b34884572647811a353c7ac498a</td>\n",
       "      <td>2017-10-06 11:07:15</td>\n",
       "      <td>29.99</td>\n",
       "      <td>8.72</td>\n",
       "      <td>utilidades_domesticas</td>\n",
       "      <td>4.0</td>\n",
       "      <td>housewares</td>\n",
       "    </tr>\n",
       "    <tr>\n",
       "      <th>1</th>\n",
       "      <td>128e10d95713541c87cd1a2e48201934</td>\n",
       "      <td>a20e8105f23924cd00833fd87daa0831</td>\n",
       "      <td>2017-08-15 18:29:31</td>\n",
       "      <td>2017-08-15 20:05:16</td>\n",
       "      <td>2017-08-17 15:28:33</td>\n",
       "      <td>2017-08-18 14:44:43</td>\n",
       "      <td>2017-08-28</td>\n",
       "      <td>Tuesday</td>\n",
       "      <td>2017-08-15</td>\n",
       "      <td>8</td>\n",
       "      <td>2017</td>\n",
       "      <td>-10.0</td>\n",
       "      <td>1</td>\n",
       "      <td>87285b34884572647811a353c7ac498a</td>\n",
       "      <td>2017-08-21 20:05:16</td>\n",
       "      <td>29.99</td>\n",
       "      <td>7.78</td>\n",
       "      <td>utilidades_domesticas</td>\n",
       "      <td>4.0</td>\n",
       "      <td>housewares</td>\n",
       "    </tr>\n",
       "    <tr>\n",
       "      <th>2</th>\n",
       "      <td>0e7e841ddf8f8f2de2bad69267ecfbcf</td>\n",
       "      <td>26c7ac168e1433912a51b924fbd34d34</td>\n",
       "      <td>2017-08-02 18:24:47</td>\n",
       "      <td>2017-08-02 18:43:15</td>\n",
       "      <td>2017-08-04 17:35:43</td>\n",
       "      <td>2017-08-07 18:30:01</td>\n",
       "      <td>2017-08-15</td>\n",
       "      <td>Wednesday</td>\n",
       "      <td>2017-08-02</td>\n",
       "      <td>8</td>\n",
       "      <td>2017</td>\n",
       "      <td>-8.0</td>\n",
       "      <td>1</td>\n",
       "      <td>87285b34884572647811a353c7ac498a</td>\n",
       "      <td>2017-08-08 18:37:31</td>\n",
       "      <td>29.99</td>\n",
       "      <td>7.78</td>\n",
       "      <td>utilidades_domesticas</td>\n",
       "      <td>4.0</td>\n",
       "      <td>housewares</td>\n",
       "    </tr>\n",
       "    <tr>\n",
       "      <th>3</th>\n",
       "      <td>bfc39df4f36c3693ff3b63fcbea9e90a</td>\n",
       "      <td>53904ddbea91e1e92b2b3f1d09a7af86</td>\n",
       "      <td>2017-10-23 23:26:46</td>\n",
       "      <td>2017-10-25 02:14:11</td>\n",
       "      <td>2017-10-27 16:48:46</td>\n",
       "      <td>2017-11-07 18:04:59</td>\n",
       "      <td>2017-11-13</td>\n",
       "      <td>Monday</td>\n",
       "      <td>2017-10-23</td>\n",
       "      <td>10</td>\n",
       "      <td>2017</td>\n",
       "      <td>-6.0</td>\n",
       "      <td>1</td>\n",
       "      <td>87285b34884572647811a353c7ac498a</td>\n",
       "      <td>2017-10-31 02:14:11</td>\n",
       "      <td>29.99</td>\n",
       "      <td>14.10</td>\n",
       "      <td>utilidades_domesticas</td>\n",
       "      <td>4.0</td>\n",
       "      <td>housewares</td>\n",
       "    </tr>\n",
       "    <tr>\n",
       "      <th>4</th>\n",
       "      <td>6ea2f835b4556291ffdc53fa0b3b95e8</td>\n",
       "      <td>c7340080e394356141681bd4c9b8fe31</td>\n",
       "      <td>2017-11-24 21:27:48</td>\n",
       "      <td>2017-11-25 00:21:09</td>\n",
       "      <td>2017-12-13 21:14:05</td>\n",
       "      <td>2017-12-28 18:59:23</td>\n",
       "      <td>2017-12-21</td>\n",
       "      <td>Friday</td>\n",
       "      <td>2017-11-24</td>\n",
       "      <td>11</td>\n",
       "      <td>2017</td>\n",
       "      <td>7.0</td>\n",
       "      <td>1</td>\n",
       "      <td>be021417a6acb56b9b50d3fd2714baa8</td>\n",
       "      <td>2017-11-30 00:21:09</td>\n",
       "      <td>339.00</td>\n",
       "      <td>17.12</td>\n",
       "      <td>utilidades_domesticas</td>\n",
       "      <td>6.0</td>\n",
       "      <td>housewares</td>\n",
       "    </tr>\n",
       "  </tbody>\n",
       "</table>\n",
       "</div>"
      ],
      "text/plain": [
       "                           order_id                       customer_id  \\\n",
       "0  e481f51cbdc54678b7cc49136f2d6af7  9ef432eb6251297304e76186b10a928d   \n",
       "1  128e10d95713541c87cd1a2e48201934  a20e8105f23924cd00833fd87daa0831   \n",
       "2  0e7e841ddf8f8f2de2bad69267ecfbcf  26c7ac168e1433912a51b924fbd34d34   \n",
       "3  bfc39df4f36c3693ff3b63fcbea9e90a  53904ddbea91e1e92b2b3f1d09a7af86   \n",
       "4  6ea2f835b4556291ffdc53fa0b3b95e8  c7340080e394356141681bd4c9b8fe31   \n",
       "\n",
       "  order_purchase_timestamp   order_approved_at order_delivered_carrier_date  \\\n",
       "0      2017-10-02 10:56:33 2017-10-02 11:07:15          2017-10-04 19:55:00   \n",
       "1      2017-08-15 18:29:31 2017-08-15 20:05:16          2017-08-17 15:28:33   \n",
       "2      2017-08-02 18:24:47 2017-08-02 18:43:15          2017-08-04 17:35:43   \n",
       "3      2017-10-23 23:26:46 2017-10-25 02:14:11          2017-10-27 16:48:46   \n",
       "4      2017-11-24 21:27:48 2017-11-25 00:21:09          2017-12-13 21:14:05   \n",
       "\n",
       "  order_delivered_customer_date order_estimated_delivery_date  \\\n",
       "0           2017-10-10 21:25:13                    2017-10-18   \n",
       "1           2017-08-18 14:44:43                    2017-08-28   \n",
       "2           2017-08-07 18:30:01                    2017-08-15   \n",
       "3           2017-11-07 18:04:59                    2017-11-13   \n",
       "4           2017-12-28 18:59:23                    2017-12-21   \n",
       "\n",
       "  purchase_weekday purchase_date  purchase_month  purchase_year  days_diff  \\\n",
       "0           Monday    2017-10-02              10           2017       -8.0   \n",
       "1          Tuesday    2017-08-15               8           2017      -10.0   \n",
       "2        Wednesday    2017-08-02               8           2017       -8.0   \n",
       "3           Monday    2017-10-23              10           2017       -6.0   \n",
       "4           Friday    2017-11-24              11           2017        7.0   \n",
       "\n",
       "   order_item_id                        product_id  shipping_limit_date  \\\n",
       "0              1  87285b34884572647811a353c7ac498a  2017-10-06 11:07:15   \n",
       "1              1  87285b34884572647811a353c7ac498a  2017-08-21 20:05:16   \n",
       "2              1  87285b34884572647811a353c7ac498a  2017-08-08 18:37:31   \n",
       "3              1  87285b34884572647811a353c7ac498a  2017-10-31 02:14:11   \n",
       "4              1  be021417a6acb56b9b50d3fd2714baa8  2017-11-30 00:21:09   \n",
       "\n",
       "    price  freight_value  product_category_name  product_photos_qty  \\\n",
       "0   29.99           8.72  utilidades_domesticas                 4.0   \n",
       "1   29.99           7.78  utilidades_domesticas                 4.0   \n",
       "2   29.99           7.78  utilidades_domesticas                 4.0   \n",
       "3   29.99          14.10  utilidades_domesticas                 4.0   \n",
       "4  339.00          17.12  utilidades_domesticas                 6.0   \n",
       "\n",
       "  product_category_name_english  \n",
       "0                    housewares  \n",
       "1                    housewares  \n",
       "2                    housewares  \n",
       "3                    housewares  \n",
       "4                    housewares  "
      ]
     },
     "execution_count": 28,
     "metadata": {},
     "output_type": "execute_result"
    }
   ],
   "source": [
    "full_orders.head()"
   ]
  },
  {
   "cell_type": "code",
   "execution_count": null,
   "id": "f0240625",
   "metadata": {},
   "outputs": [],
   "source": []
  }
 ],
 "metadata": {
  "kernelspec": {
   "display_name": "Python 3",
   "language": "python",
   "name": "python3"
  },
  "language_info": {
   "codemirror_mode": {
    "name": "ipython",
    "version": 3
   },
   "file_extension": ".py",
   "mimetype": "text/x-python",
   "name": "python",
   "nbconvert_exporter": "python",
   "pygments_lexer": "ipython3",
   "version": "3.8.8"
  }
 },
 "nbformat": 4,
 "nbformat_minor": 5
}
